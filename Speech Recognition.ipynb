{
 "cells": [
  {
   "cell_type": "code",
   "execution_count": 2,
   "metadata": {},
   "outputs": [
    {
     "data": {
      "text/plain": [
       "'apiai\\nassemblyai\\nwatson developer cloud\\nwit\\ngoogle cloud speech\\nspeech recognition'"
      ]
     },
     "execution_count": 2,
     "metadata": {},
     "output_type": "execute_result"
    }
   ],
   "source": [
    "\"\"\"apiai\n",
    "assemblyai\n",
    "watson developer cloud\n",
    "wit\n",
    "google cloud speech\n",
    "speech recognition\"\"\""
   ]
  },
  {
   "cell_type": "code",
   "execution_count": 21,
   "metadata": {},
   "outputs": [],
   "source": [
    "import speech_recognition as sr\n",
    "import webbrowser as wb"
   ]
  },
  {
   "cell_type": "code",
   "execution_count": 6,
   "metadata": {},
   "outputs": [
    {
     "data": {
      "text/plain": [
       "'recognize_bing()\\nrecognize_google()\\nrecognize_google_cloud()\\nrecognize_ibm()\\nrecognize_sphinx()\\nrecognize_wit()'"
      ]
     },
     "execution_count": 6,
     "metadata": {},
     "output_type": "execute_result"
    }
   ],
   "source": [
    "#Recognizer Class\n",
    "\"\"\"recognize_bing()\n",
    "recognize_google()\n",
    "recognize_google_cloud()\n",
    "recognize_ibm()\n",
    "recognize_sphinx()\n",
    "recognize_wit()\"\"\""
   ]
  },
  {
   "cell_type": "code",
   "execution_count": null,
   "metadata": {},
   "outputs": [],
   "source": [
    "#Install PyAudio package in python"
   ]
  },
  {
   "cell_type": "code",
   "execution_count": 19,
   "metadata": {},
   "outputs": [],
   "source": []
  },
  {
   "cell_type": "code",
   "execution_count": 64,
   "metadata": {},
   "outputs": [
    {
     "name": "stdout",
     "output_type": "stream",
     "text": [
      "[search edureka:search youtube]\n",
      "speak now\n",
      "search your query\n",
      "python\n"
     ]
    }
   ],
   "source": [
    "r1=sr.Recognizer()\n",
    "r2=sr.Recognizer()\n",
    "r3=sr.Recognizer()\n",
    "\n",
    "sample_rate = 48000\n",
    "#Chunk is like a buffer. It stores 2048 samples (bytes of data) \n",
    "#here.  \n",
    "#it is advisable to use powers of 2 such as 1024 or 2048 \n",
    "chunk_size = 2048\n",
    "with sr.Microphone(sample_rate = sample_rate,  \n",
    "                        chunk_size = chunk_size) as source:\n",
    "    print('[search edureka:search youtube]')\n",
    "    print('speak now')\n",
    "    r3.adjust_for_ambient_noise(source) \n",
    "    audio=r3.listen(source)\n",
    "    \n",
    "    \n",
    "if 'video' in r2.recognize_google(audio):\n",
    "    r2=sr.Recognizer()\n",
    "    url='https://www.google.com/'\n",
    "    with sr.Microphone(sample_rate = sample_rate,  \n",
    "                        chunk_size = chunk_size) as source:\n",
    "        print('search your query')\n",
    "        audio1=r3.listen(source)\n",
    "        \n",
    "        try:\n",
    "            get=r2.recognize_google(audio1)\n",
    "            print(get)\n",
    "            wb.get().open_new(url+get)\n",
    "            \n",
    "        except sr.UnknownValueError:\n",
    "            print('error')\n",
    "        except sr.RequestError as e:\n",
    "            print('failed'.format(e))"
   ]
  },
  {
   "cell_type": "code",
   "execution_count": 57,
   "metadata": {},
   "outputs": [
    {
     "name": "stdout",
     "output_type": "stream",
     "text": [
      "Say Something\n",
      "you said: bad\n"
     ]
    }
   ],
   "source": [
    "import speech_recognition as sr \n",
    "  \n",
    "#Sample rate is how often values are recorded \n",
    "sample_rate = 48000\n",
    "#Chunk is like a buffer. It stores 2048 samples (bytes of data) \n",
    "#here.  \n",
    "#it is advisable to use powers of 2 such as 1024 or 2048 \n",
    "chunk_size = 2048\n",
    "#Initialize the recognizer \n",
    "r = sr.Recognizer() \n",
    "\n",
    "#use the microphone as source for input. Here, we also specify  \n",
    "#which device ID to specifically look for incase the microphone  \n",
    "#is not working, an error will pop up saying \"device_id undefined\" \n",
    "with sr.Microphone(sample_rate = sample_rate,  \n",
    "                        chunk_size = chunk_size) as source: \n",
    "    #wait for a second to let the recognizer adjust the  \n",
    "    #energy threshold based on the surrounding noise level \n",
    "    r.adjust_for_ambient_noise(source) \n",
    "    print (\"Say Something\")\n",
    "    #listens for the user's input \n",
    "    audio = r.listen(source) \n",
    "          \n",
    "    try: \n",
    "        text = r.recognize_google(audio) \n",
    "        print (\"you said: \" + text)\n",
    "      \n",
    "    #error occurs when google could not understand what was said \n",
    "      \n",
    "    except sr.UnknownValueError: \n",
    "        print(\"Google Speech Recognition could not understand audio\") \n",
    "      \n",
    "    except sr.RequestError as e: \n",
    "        print(\"Could not request results from Google Speech Recognition service; {0}\".format(e)) \n"
   ]
  },
  {
   "cell_type": "code",
   "execution_count": null,
   "metadata": {},
   "outputs": [],
   "source": []
  }
 ],
 "metadata": {
  "kernelspec": {
   "display_name": "Python 3",
   "language": "python",
   "name": "python3"
  },
  "language_info": {
   "codemirror_mode": {
    "name": "ipython",
    "version": 3
   },
   "file_extension": ".py",
   "mimetype": "text/x-python",
   "name": "python",
   "nbconvert_exporter": "python",
   "pygments_lexer": "ipython3",
   "version": "3.7.7"
  }
 },
 "nbformat": 4,
 "nbformat_minor": 4
}
